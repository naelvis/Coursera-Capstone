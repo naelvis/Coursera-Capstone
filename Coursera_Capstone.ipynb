{
 "cells": [
  {
   "cell_type": "markdown",
   "id": "cordless-poland",
   "metadata": {},
   "source": [
    "# Coursera Capstone"
   ]
  },
  {
   "cell_type": "markdown",
   "id": "dressed-degree",
   "metadata": {},
   "source": [
    "## Preparation"
   ]
  },
  {
   "cell_type": "markdown",
   "id": "answering-farming",
   "metadata": {},
   "source": [
    "You can install packages with this command (uncomment first!):"
   ]
  },
  {
   "cell_type": "code",
   "execution_count": 6,
   "id": "macro-girlfriend",
   "metadata": {
    "scrolled": true
   },
   "outputs": [],
   "source": [
    "#import sys\n",
    "#!{sys.executable} -m pip install package-name"
   ]
  },
  {
   "cell_type": "markdown",
   "id": "retained-linux",
   "metadata": {},
   "source": [
    "We will need pandas and numpy for a starter:"
   ]
  },
  {
   "cell_type": "code",
   "execution_count": 5,
   "id": "painful-money",
   "metadata": {},
   "outputs": [],
   "source": [
    "import pandas as pd\n",
    "import numpy as np"
   ]
  },
  {
   "cell_type": "markdown",
   "id": "incident-society",
   "metadata": {},
   "source": [
    "Hello Capstone Project Course!"
   ]
  }
 ],
 "metadata": {
  "kernelspec": {
   "display_name": "Python 3",
   "language": "python",
   "name": "python3"
  },
  "language_info": {
   "codemirror_mode": {
    "name": "ipython",
    "version": 3
   },
   "file_extension": ".py",
   "mimetype": "text/x-python",
   "name": "python",
   "nbconvert_exporter": "python",
   "pygments_lexer": "ipython3",
   "version": "3.9.0"
  }
 },
 "nbformat": 4,
 "nbformat_minor": 5
}
